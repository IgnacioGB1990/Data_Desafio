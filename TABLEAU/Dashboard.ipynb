{
 "cells": [
  {
   "attachments": {},
   "cell_type": "markdown",
   "metadata": {},
   "source": [
    "## <center><span style = 'color:blue'>CONCLUSIONES INTENCIÓN DEL USUARIO VS EDAD</span></center>"
   ]
  },
  {
   "attachments": {},
   "cell_type": "markdown",
   "metadata": {},
   "source": [
    "<img src= 'Intención-vs-Edad.png'>"
   ]
  },
  {
   "attachments": {},
   "cell_type": "markdown",
   "metadata": {},
   "source": [
    "Al analizar los datos de los 1178 encuestados, se ha considerado analizar si los grupos de edad más juvenil podrían tener una intención y un grado de concienciación distinto a aquellos de edades superiores. De la visualización se sacan las siguientes conclusiones: \n",
    "\n",
    "- En términos generales, se observa que **los jóvenes muestran una mayor preocupación por cuestiones relacionadas con el aspecto económico que las personas mayores, quienes demuestran una mayor conciencia y sensibilidad hacia los temas relacionados con el ecosistema**. Esto se puede apreciar en el gráfico de la izquierda: la barra correspondiente a ahorrar dinero, en proporción, es muy superior en los encuestados de menor edad.\n",
    "\n",
    "- La preocupación manifestada por estos dos grupos de edad se encuentra representada de manera visual en los gráficos de anillo que se encuentran ubicados en la sección derecha del dashboard:\n",
    "\n",
    "    - Se aprecia que los grupos de personas con mayor edad ponen el modo ECO siempre en mucha mayor proporción que el grupo de jóvenes (representa más de la mitad del gráfico). Este modo supone más de un 30% de ahorro de agua. \n",
    "\n",
    "    - Por otro lado, llama la atención que las duchas con una duración inferior a 5 minutos también destacan notablemente en las personas de mayor edad, siendo prácticamente el doble en comparación con los encuestados más jóvenes.\n",
    "\n",
    "    - En relación a otras actividades, como la frecuencia con la que se ponen lavadoras a la semana, se observa una diferencia mínima entre ambos grupos de edad.\n",
    "\n",
    "**CONCLUSIONES**: Estos hallazgos nos llevan a concluir que, en general, los jóvenes parecen estar menos concienciados con el ecosistema y el ahorro de agua en sus hogares, priorizando considerablemente más el ahorro económico. Por otro lado, las personas de mayor edad muestran una mayor conciencia y preocupación por el ecosistema. Esto se refleja en comportamientos más derrochadores en actividades como ducharse, donde la duración de la ducha no supone una consideración inmediate de un gasto económico Sin embargo, en otras actividades, como la frecuencia de lavado, la diferencia entre ambos grupos es mínima, ya que esta actividad está más vinculada a consideraciones económicas, dado el elevado costo de la electricidad."
   ]
  },
  {
   "attachments": {},
   "cell_type": "markdown",
   "metadata": {},
   "source": [
    "[Enlace al Dashboard dinámico](https://public.tableau.com/views/Huelladelagua/IntencinvsEdad2?:language=en-US&:display_count=n&:origin=viz_share_link)\n",
    "\n"
   ]
  }
 ],
 "metadata": {
  "language_info": {
   "name": "python"
  },
  "orig_nbformat": 4
 },
 "nbformat": 4,
 "nbformat_minor": 2
}
