{
 "cells": [
  {
   "attachments": {},
   "cell_type": "markdown",
   "metadata": {},
   "source": [
    "# Lista de valores para cada botón del cuestionario pasado a litros/día por actividad.\n",
    "\n",
    "- Bibliografia: https://www.watercalculator.org/wp-content/uploads/2020/04/WFC-Methodology-August-2020.pdf\n",
    "\n",
    "## Pregunta 5. - ¿Cuanto tiempo te tomas para disfrutar de una ducha?\n",
    "\n",
    "- Botón 'Menos de 5 min': 1.19 L/día\n",
    "\n",
    "- Botón 'Entre 5 y 10 min': 2.07 L/día\n",
    "\n",
    "- Botón 'Entre 11 y 15 min': 3.56 L/día\n",
    "\n",
    "- Botón 'Más de 15 min': 5.93 L/día\n",
    "\n",
    "\n",
    "## Pregunta 6. - ¿Como usas tus electrodomésticos? Lavadora\n",
    "\n",
    "- Botón 'Menos de 3 veces': 21.36 L/día\n",
    "\n",
    "- Botón 'Entre 3 y 5 veces': 85.47 L/día\n",
    "\n",
    "- Botón 'Más de 5 veces': 128.21 L/día\n",
    "\n",
    "\n",
    "## Pregunta 6. - ¿Como usas tus electrodomésticos? Lavavajillas\n",
    "\n",
    "- Botón '1 vez al día': 64.82 L/día\n",
    "\n",
    "- Botón 'Entre 3 y 5 a la semana': 46.30 L/día\n",
    "\n",
    "- Botón 'Friego a mano': 384.65 L/día\n",
    "\n",
    "\n",
    "## Pregunta 6. - ¿Como usas tus electrodomésticos? Modo ECO\n",
    "\n",
    "- Botón 'Siempre': - 31.02 L/día (El número es negativo porque se restaría el 36%, en este caso, del sumatorio de lavadora y lavavajillas; no tendría sentido que se sumará ningun numero por utiizar el ECO, en este caso lo lógico es que disminuya).\n",
    "\n",
    "- Botón 'A veces': - 15.51 L/día\n",
    "\n",
    "- Botón 'No conocía el modo ECO': 0 L/día (Si no utilizan ECO, se queda el cálculo anterior como estaba).\n",
    "\n",
    "\n",
    "## Pregunta 7. - ¿Reciclas agua para otras tareas? Reciclar o reusar agua\n",
    "\n",
    "- Botón 'Si': - 2 L/día\n",
    "\n",
    "- Botón 'No': 0 L/día\n",
    "\n",
    "- Botón '¡Buena idea!¡Voy a probarlo!': 0 L/día\n",
    "\n",
    "\n",
    "## Pregunta 7. - ¿Reciclas vidrio, cartón y plástico? Reciclar papel, cartón o plástico\n",
    "\n",
    "- Botón 'A veces': - 2 L/día\n",
    "\n",
    "- Botón 'Siempre': - 4 L/día\n",
    "\n",
    "- Botón '¡Nunca!': 0 L/día\n",
    "\n",
    "\n",
    "## Pregunta 8. - ¿Cuantas veces incluyes carne en tus comidas?\n",
    "\n",
    "- Botón '1 vez al día': 7680 L/día\n",
    "\n",
    "- Botón '1 vez cada 3 días': 5960 L/día\n",
    "\n",
    "- Botón '1 vez a la semana': 5630 L/día\n",
    "\n",
    "- Botón '¡Nunca!': 4060 L/día\n",
    "\n",
    "\n",
    "## Pregunta 9. - ¿Cuantos Km dirías que haces en coche semanalmente?\n",
    "\n",
    "- Botón 'Menos de 100 km': 82.91 L/día\n",
    "\n",
    "- Botón '100 - 200 Km': 207.28 L/día\n",
    "\n",
    "- Botón 'Más de 200 Km': 345.47 L/día\n",
    "\n",
    "- Botón 'No uso coche': 0 L/día\n",
    "\n",
    "\n",
    "## Pregunta 10. - ¿Cuánto gastas al mes en comida para tu mascota?\n",
    "\n",
    "- Botón 'No tengo mascota': 0 L/día\n",
    "\n",
    "- Botón 'Menos de 50 €': 524.19 L/día\n",
    "\n",
    "- Botón 'Entre 50 y 100 €': 982.87 L/día\n",
    "\n",
    "- Botón 'Más de 100 €': 1572.59 L/día\n",
    "\n",
    "\n",
    "## Pregunta 11. - ¿Cuántos m2 tiene tu jardin?\n",
    "\n",
    "HABLAR CON DATA!!!! Con una condición, si es un número: se multiplica por 6 cada m2 ( Si son 10m2, 6 * 10).\n",
    "Si son 0 o no hay número, nada."
   ]
  },
  {
   "cell_type": "code",
   "execution_count": 14,
   "metadata": {},
   "outputs": [
    {
     "data": {
      "text/plain": [
       "5.936073059360732"
      ]
     },
     "execution_count": 14,
     "metadata": {},
     "output_type": "execute_result"
    }
   ],
   "source": [
    "cantidad_agua_por_ducha = 20 * 2.5 / 60 # en galones\n",
    "huella_hidrica_agua = 0.01 # en m3/galón\n",
    "huella_hidrica_ducha = 5 * cantidad_agua_por_ducha * huella_hidrica_agua * 52 * 1000\n",
    "huella_hidrica_ducha_dia = huella_hidrica_ducha / 365\n",
    "huella_hidrica_ducha_dia"
   ]
  },
  {
   "cell_type": "code",
   "execution_count": 63,
   "metadata": {},
   "outputs": [
    {
     "data": {
      "text/plain": [
       "128.2191780821918"
      ]
     },
     "execution_count": 63,
     "metadata": {},
     "output_type": "execute_result"
    }
   ],
   "source": [
    "cantidad_agua_por_lavadora = 15 # en galones\n",
    "huella_hidrica_lavadora = 6 * cantidad_agua_por_lavadora * huella_hidrica_agua * 52 * 1000\n",
    "huella_hidrica_lavadora_dia = huella_hidrica_lavadora / 365\n",
    "huella_hidrica_lavadora_dia"
   ]
  },
  {
   "cell_type": "code",
   "execution_count": 65,
   "metadata": {},
   "outputs": [
    {
     "data": {
      "text/plain": [
       "46.30136986301371"
      ]
     },
     "execution_count": 65,
     "metadata": {},
     "output_type": "execute_result"
    }
   ],
   "source": [
    "cantidad_agua_por_lavado = 6.5 # en galones\n",
    "huella_hidrica_lavar_platos = 5 * cantidad_agua_por_lavado * huella_hidrica_agua * 52 * 1000\n",
    "huella_hidrica_lavar_platos_dia = huella_hidrica_lavar_platos / 365\n",
    "huella_hidrica_lavar_platos_dia"
   ]
  },
  {
   "cell_type": "code",
   "execution_count": 24,
   "metadata": {},
   "outputs": [
    {
     "data": {
      "text/plain": [
       "384.6575342465753"
      ]
     },
     "execution_count": 24,
     "metadata": {},
     "output_type": "execute_result"
    }
   ],
   "source": [
    "cantidad_agua_por_lavado = 27 # en galones\n",
    "huella_hidrica_lavar_platos = 10 * cantidad_agua_por_lavado * huella_hidrica_agua * 52 * 1000\n",
    "huella_hidrica_lavar_platos_dia = huella_hidrica_lavar_platos / 365\n",
    "huella_hidrica_lavar_platos_dia"
   ]
  },
  {
   "cell_type": "code",
   "execution_count": 32,
   "metadata": {},
   "outputs": [
    {
     "name": "stdout",
     "output_type": "stream",
     "text": [
      "86.17999999999999\n",
      "15.512399999999998\n",
      "70.6676\n"
     ]
    }
   ],
   "source": [
    "calculo_eco = 21.36 + 64.82\n",
    "huella_hidrica_para_modo_eco = ((21.36 + 64.82) * 18) / 100\n",
    "print(calculo_eco)\n",
    "print(huella_hidrica_para_modo_eco)\n",
    "x = calculo_eco - huella_hidrica_para_modo_eco\n",
    "print(x)\n"
   ]
  },
  {
   "cell_type": "code",
   "execution_count": 57,
   "metadata": {},
   "outputs": [
    {
     "data": {
      "text/plain": [
       "155.0"
      ]
     },
     "execution_count": 57,
     "metadata": {},
     "output_type": "execute_result"
    }
   ],
   "source": [
    "Papel = 3.5 # en galones\n",
    "Plástico = 12 # en galones\n",
    "huella_hidrica_agua = 0.01 # en m3/galón\n",
    "Total = Papel + Plástico\n",
    "huella_hidrica_reciclaje = Total * huella_hidrica_agua * 1000\n",
    "huella_hidrica_reciclaje"
   ]
  },
  {
   "cell_type": "code",
   "execution_count": 42,
   "metadata": {},
   "outputs": [
    {
     "data": {
      "text/plain": [
       "4060.0000000000005"
      ]
     },
     "execution_count": 42,
     "metadata": {},
     "output_type": "execute_result"
    }
   ],
   "source": [
    "Carne_1día = 768 # en galones\n",
    "Carne_NoSiempre = 596 # en galones\n",
    "Carne_1semana = 563 # en galones\n",
    "Vegano = 406 # en galones\n",
    "huella_hidrica_agua = 0.01 # en m3/galón\n",
    "\n",
    "Huella_Carne = 406 * huella_hidrica_agua * 1000\n",
    "Huella_Carne"
   ]
  },
  {
   "cell_type": "code",
   "execution_count": 46,
   "metadata": {},
   "outputs": [
    {
     "data": {
      "text/plain": [
       "345.47945205479454"
      ]
     },
     "execution_count": 46,
     "metadata": {},
     "output_type": "execute_result"
    }
   ],
   "source": [
    "Gasolina = 6 # litros\n",
    "Gasolina2 = 15 # litros\n",
    "Gasolina3 = 25 # litros\n",
    "\n",
    "huella_hidrica_gasolina = (25 * 52) / 365\n",
    "huella_hidrica_gasolina_total = huella_hidrica_gasolina * 97\n",
    "huella_hidrica_gasolina_total"
   ]
  },
  {
   "cell_type": "code",
   "execution_count": 70,
   "metadata": {},
   "outputs": [
    {
     "data": {
      "text/plain": [
       "982.8767123287671"
      ]
     },
     "execution_count": 70,
     "metadata": {},
     "output_type": "execute_result"
    }
   ],
   "source": [
    "Perro_grande = 703 # m3/año\n",
    "Perro_mediano = 416 # m3/año\n",
    "Perro_pequeño = 231 # m3/año\n",
    "Gato = 85 # m3/año\n",
    "Total = (703 + 416 + 231 + 85) / 4\n",
    "\n",
    "huella_hidrica_mascota = (Total * 1000) / 365\n",
    "huella_hidrica_mascota"
   ]
  },
  {
   "cell_type": "code",
   "execution_count": 74,
   "metadata": {},
   "outputs": [
    {
     "data": {
      "text/plain": [
       "358750.0"
      ]
     },
     "execution_count": 74,
     "metadata": {},
     "output_type": "execute_result"
    }
   ],
   "source": [
    "x = 120 * 982.87 / 75 * 365\n",
    "x"
   ]
  }
 ],
 "metadata": {
  "kernelspec": {
   "display_name": "Python 3",
   "language": "python",
   "name": "python3"
  },
  "language_info": {
   "codemirror_mode": {
    "name": "ipython",
    "version": 3
   },
   "file_extension": ".py",
   "mimetype": "text/x-python",
   "name": "python",
   "nbconvert_exporter": "python",
   "pygments_lexer": "ipython3",
   "version": "3.7.4"
  },
  "orig_nbformat": 4
 },
 "nbformat": 4,
 "nbformat_minor": 2
}
