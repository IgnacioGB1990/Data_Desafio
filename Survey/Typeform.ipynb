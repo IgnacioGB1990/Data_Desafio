{
 "cells": [
  {
   "attachments": {},
   "cell_type": "markdown",
   "metadata": {},
   "source": [
    "----"
   ]
  },
  {
   "attachments": {},
   "cell_type": "markdown",
   "metadata": {},
   "source": [
    "## `Preguntas seleccionadas para el cuestionario`"
   ]
  },
  {
   "attachments": {},
   "cell_type": "markdown",
   "metadata": {},
   "source": [
    "#### **1. ¿En qué rango de edad te encuentras?**\n",
    "- Menor de 18 años\n",
    "- Entre 18 y 35 años\n",
    "- Entre 36 y 65 años\n",
    "\n",
    "Con esta pregunta se pretende comprender si los diferentes grupos de edad pueden tener diferentes patrones de consumo de agua y niveles de conciencia sobre la importancia de su uso eficiente.\n"
   ]
  },
  {
   "attachments": {},
   "cell_type": "markdown",
   "metadata": {},
   "source": [
    "#### **2. ¿Cuántas personas sois en vuestro hogar?**\n"
   ]
  },
  {
   "attachments": {},
   "cell_type": "markdown",
   "metadata": {},
   "source": [
    "La cantidad de personas en un hogar influye en el consumo total de agua en actividades diarias, como duchas, lavado de platos y lavado de ropa. Al conocer el tamaño de la familia, se pueden proporcionar recomendaciones específicas para la gestión y conservación eficiente del agua en el hogar."
   ]
  },
  {
   "attachments": {},
   "cell_type": "markdown",
   "metadata": {},
   "source": [
    "#### **3. ¿En qué provincia vives? Vamos a conocernos un poco mejor 😄**\n",
    "Conocer la provincia de residencia de los participantes permite relacionar los hábitos del consumo del encuestado con las características climáticas y geofráficas de la región donde habita (escasez de agua o presencia de recursos hídricos limitados en ciertas áreas)"
   ]
  },
  {
   "attachments": {},
   "cell_type": "markdown",
   "metadata": {},
   "source": [
    "#### **4. ¿De cuál de estos temas te interesaría saber más?**\n",
    "\n",
    "- Ahorrar agua\n",
    "- Ayudar al ecosistema\n",
    "- Ahorrar dinero\n",
    "- Conocer mi huella hídrica\n",
    "\n",
    "Esta pregunta se centra en las motivaciones y prioridades individuales de los participantes en relación con el agua. De esta manera, aquellos participantes que seleccionen ayudar al ecosistema o ahorrar agua tendrán una personalidad más respetuosa con el medio ambiente, mientras que los que no seleccionen dichas opciones estarán menos preocupados por dicho tema. Esto se podría ver reflejado en los hábitos de consumo.   \n"
   ]
  },
  {
   "attachments": {},
   "cell_type": "markdown",
   "metadata": {},
   "source": [
    "#### **5. ¿Cuánto duran tus duchas?**\n",
    "- Menos de 5 minutos\n",
    "- Entre 5 y 10 minutos\n",
    "- Entre 11 y 15 minutos\n",
    "- Más de 15 minutos\n",
    "\n",
    "Esta pregunta busca recopilar información sobre el tiempo que los participantes suelen pasar en la ducha. La duración de las duchas supone un dato relevante tanto para entender el nivel de concienciación por el gasto innecesario de agua del usuario, como para medir su consumo de agua doméstica. "
   ]
  },
  {
   "attachments": {},
   "cell_type": "markdown",
   "metadata": {},
   "source": [
    "#### **6. ¿Cuántas veces pones la lavadora a la semana?**\n",
    "- Menos de 3 veces\n",
    "- Entre 3 y 5 veces\n",
    "- Más de 5\n",
    "\n",
    "Esta pregunta tiene como objetivo determinar con qué frecuencia los participantes realizan cargas de lavado en sus lavadoras. La frecuencia de las lavadoras está directamente relacionada con el consumo de agua , por lo que esta información permite identificar patrones de consumo y, del mismo modo, del grado de concienciación del usuario."
   ]
  },
  {
   "attachments": {},
   "cell_type": "markdown",
   "metadata": {},
   "source": [
    "#### **7. ¿Cuántas veces pones el lavavajillas?**\n",
    "- 1 vez al día \n",
    "- Entre 3 y 5 veces a la semana\n",
    "- Friego a mano\n"
   ]
  },
  {
   "attachments": {},
   "cell_type": "markdown",
   "metadata": {},
   "source": [
    "Esta pregunta busca conocer con qué regularidad los participantes utilizan el lavavajillas para lavar los platos o si, por el contrario, friegan a mano. Del mismo modo, con los resultados podremos obtener información sobre el consumo de agua en casa que hace el usuario, así como su nivel de preocupación por el ahorro de agua."
   ]
  },
  {
   "attachments": {},
   "cell_type": "markdown",
   "metadata": {},
   "source": [
    "#### **8. ¿Sueles poner el modo ECO en tus electrodomésticos?**\n",
    "- Siempre\n",
    "- A veces\n",
    "- No sabía que existía ese modo"
   ]
  },
  {
   "attachments": {},
   "cell_type": "markdown",
   "metadata": {},
   "source": [
    "El modo ECO de los electrodomésticos puede ofrecer configuraciones que reducen el consumo de agua y energía. Preguntar sobre el uso del modo eco permite identificar qué porcentaje de los participantes aprovecha esta opción, lo cual es relevante a la hora de conocer sus hábitos de consumo."
   ]
  },
  {
   "attachments": {},
   "cell_type": "markdown",
   "metadata": {},
   "source": [
    "#### **9. ¿Reciclas agua para usarlo en otras tareas?**\n",
    "- Sí\n",
    "- No\n",
    "- ¡Buena idea! ¡Voy a probarlo!\n"
   ]
  },
  {
   "attachments": {},
   "cell_type": "markdown",
   "metadata": {},
   "source": [
    "Esta pregunta nos aporta información de la intención del usuario, aquellos que reciclan agua demuestran, obviamente, una preocupación por el gasto inecesario de agua. Los usuarios que no lo hacen, pero lo ven una buena idea demuestran también preocupación por el tema, mientras que los que simplemente marcan la casilla de no, muestran un menor grado de concienciación. "
   ]
  },
  {
   "attachments": {},
   "cell_type": "markdown",
   "metadata": {},
   "source": [
    "#### **10. ¿Reciclas vidrio, cartón y plástico?**\n",
    "- A veces\n",
    "- Siempre\n",
    "- Nunca\n",
    "\n",
    "Conocer los hábitos de reciclaje es importante para evaluar la conciencia ambiental y nos permite conocer el consumo indirecto de agua del usuario.\n"
   ]
  },
  {
   "attachments": {},
   "cell_type": "markdown",
   "metadata": {},
   "source": [
    "#### **11. ¿Cada cuánto consumes carne?**\n",
    "- 1 vez al día\n",
    "- 1 vez cada 3 días\n",
    "- 1 vez a la semana\n",
    "- Nunca\n",
    "\n",
    "Obtener información sobre el consumo de carne permite evaluar el consumo de agua indirecto del usuario, debido a que en la producción de carne se gastan una gran cantidad de litros de agua.\n"
   ]
  },
  {
   "attachments": {},
   "cell_type": "markdown",
   "metadata": {},
   "source": [
    "#### **12. ¿Cuántos km haces a la semana en coche?**\n",
    "- Menos de 100 km\n",
    "- 100 - 200 km\n",
    "- Más de 200 km\n",
    "- No uso coche\n"
   ]
  },
  {
   "attachments": {},
   "cell_type": "markdown",
   "metadata": {},
   "source": [
    "Esta información es relevante para evaluar la huella hídrica relacionada con el combustible."
   ]
  },
  {
   "attachments": {},
   "cell_type": "markdown",
   "metadata": {},
   "source": [
    "#### **13. ¿Cuánto gastas al mes en comida para gato/perro?**\n",
    "- No tengo mascota\n",
    "- Menos de 50€\n",
    "- Entre 50 y 100€\n",
    "- Más de 100€"
   ]
  },
  {
   "attachments": {},
   "cell_type": "markdown",
   "metadata": {},
   "source": [
    "La producción de pienso consume una gran cantidad de agua, con esta pregunta obtendremos la información de si el usuario tiene o no mascota."
   ]
  },
  {
   "attachments": {},
   "cell_type": "markdown",
   "metadata": {},
   "source": [
    "#### **14. ¿Cuántos metros cuadrados tiene tu jardín?**\n",
    "\n",
    "El tamaño del jardín tiene un impacto directo en la cantidad de agua necesaria para regarlo. Al conocer el tamaño del jardín, podemos realizar un cáclulo aproximado de cuantos litros de agua se consumen en la actividad de riego. "
   ]
  },
  {
   "attachments": {},
   "cell_type": "markdown",
   "metadata": {},
   "source": [
    "#### **15. ¿Sabes cuánto dinero gastas en tu consumo de agua al mes?**\n",
    "- Menos de 10€\n",
    "- Entre 10€ y 40€\n",
    "- Más de 40€\n",
    "- Ni idea!\n",
    "\n",
    "Esta pregunta nos permite conocer un poco más al usuario, comprobar su grado de preocupación por el gasto económico de agua mensual. Aquellos que no saben lo que gastan serán personas que no se preocupen demasiado por el tema económico del agua, es decir, que no suelen mirar la factura de agua. Aquellos que marcan cualquier otra opción demuestran preocupación, o al menos interés en cuánto gastan mensualmente en agua. "
   ]
  },
  {
   "attachments": {},
   "cell_type": "markdown",
   "metadata": {},
   "source": [
    "---"
   ]
  },
  {
   "attachments": {},
   "cell_type": "markdown",
   "metadata": {},
   "source": [
    "El enlace al cuestionario es el siguiente: https://form.typeform.com/to/zCsmiPAp"
   ]
  }
 ],
 "metadata": {
  "language_info": {
   "name": "python"
  },
  "orig_nbformat": 4
 },
 "nbformat": 4,
 "nbformat_minor": 2
}
