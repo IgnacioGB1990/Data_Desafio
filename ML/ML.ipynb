{
 "cells": [
  {
   "cell_type": "code",
   "execution_count": 54,
   "metadata": {},
   "outputs": [],
   "source": [
    "import pandas as pd\n",
    "import numpy as np\n",
    "import matplotlib.pyplot as plt\n",
    "import seaborn as sns\n",
    "\n",
    "\n",
    "from sklearn.metrics import silhouette_score\n",
    "from sklearn.cluster import KMeans\n",
    "\n",
    "import pickle"
   ]
  },
  {
   "cell_type": "markdown",
   "metadata": {},
   "source": [
    "## In this notebook we will compare our features selected purely by intuition and we will then use a more technical approach."
   ]
  },
  {
   "cell_type": "code",
   "execution_count": 55,
   "metadata": {},
   "outputs": [
    {
     "data": {
      "text/html": [
       "<div>\n",
       "<style scoped>\n",
       "    .dataframe tbody tr th:only-of-type {\n",
       "        vertical-align: middle;\n",
       "    }\n",
       "\n",
       "    .dataframe tbody tr th {\n",
       "        vertical-align: top;\n",
       "    }\n",
       "\n",
       "    .dataframe thead th {\n",
       "        text-align: right;\n",
       "    }\n",
       "</style>\n",
       "<table border=\"1\" class=\"dataframe\">\n",
       "  <thead>\n",
       "    <tr style=\"text-align: right;\">\n",
       "      <th></th>\n",
       "      <th>Interests</th>\n",
       "      <th>Shower</th>\n",
       "      <th>WashingMachine</th>\n",
       "      <th>DishWasher</th>\n",
       "      <th>EcoMode</th>\n",
       "      <th>WaterRecycling</th>\n",
       "      <th>GeneralRecycling</th>\n",
       "      <th>Meat</th>\n",
       "      <th>Gasoline</th>\n",
       "      <th>Age_Old</th>\n",
       "      <th>Age_Young</th>\n",
       "      <th>Estimation_No</th>\n",
       "      <th>Estimation_Yes</th>\n",
       "      <th>Pet_No</th>\n",
       "      <th>Pet_Yes</th>\n",
       "      <th>Garden_No</th>\n",
       "      <th>Garden_Yes</th>\n",
       "    </tr>\n",
       "  </thead>\n",
       "  <tbody>\n",
       "    <tr>\n",
       "      <th>0</th>\n",
       "      <td>0</td>\n",
       "      <td>1</td>\n",
       "      <td>1</td>\n",
       "      <td>1</td>\n",
       "      <td>1</td>\n",
       "      <td>1</td>\n",
       "      <td>0</td>\n",
       "      <td>1</td>\n",
       "      <td>1</td>\n",
       "      <td>1</td>\n",
       "      <td>0</td>\n",
       "      <td>1</td>\n",
       "      <td>0</td>\n",
       "      <td>1</td>\n",
       "      <td>0</td>\n",
       "      <td>1</td>\n",
       "      <td>0</td>\n",
       "    </tr>\n",
       "    <tr>\n",
       "      <th>1</th>\n",
       "      <td>0</td>\n",
       "      <td>0</td>\n",
       "      <td>0</td>\n",
       "      <td>1</td>\n",
       "      <td>0</td>\n",
       "      <td>1</td>\n",
       "      <td>1</td>\n",
       "      <td>1</td>\n",
       "      <td>1</td>\n",
       "      <td>1</td>\n",
       "      <td>0</td>\n",
       "      <td>1</td>\n",
       "      <td>0</td>\n",
       "      <td>1</td>\n",
       "      <td>0</td>\n",
       "      <td>0</td>\n",
       "      <td>1</td>\n",
       "    </tr>\n",
       "    <tr>\n",
       "      <th>2</th>\n",
       "      <td>2</td>\n",
       "      <td>0</td>\n",
       "      <td>0</td>\n",
       "      <td>2</td>\n",
       "      <td>2</td>\n",
       "      <td>1</td>\n",
       "      <td>1</td>\n",
       "      <td>0</td>\n",
       "      <td>1</td>\n",
       "      <td>1</td>\n",
       "      <td>0</td>\n",
       "      <td>1</td>\n",
       "      <td>0</td>\n",
       "      <td>1</td>\n",
       "      <td>0</td>\n",
       "      <td>1</td>\n",
       "      <td>0</td>\n",
       "    </tr>\n",
       "    <tr>\n",
       "      <th>3</th>\n",
       "      <td>0</td>\n",
       "      <td>1</td>\n",
       "      <td>0</td>\n",
       "      <td>2</td>\n",
       "      <td>0</td>\n",
       "      <td>1</td>\n",
       "      <td>1</td>\n",
       "      <td>1</td>\n",
       "      <td>1</td>\n",
       "      <td>0</td>\n",
       "      <td>1</td>\n",
       "      <td>1</td>\n",
       "      <td>0</td>\n",
       "      <td>1</td>\n",
       "      <td>0</td>\n",
       "      <td>1</td>\n",
       "      <td>0</td>\n",
       "    </tr>\n",
       "    <tr>\n",
       "      <th>4</th>\n",
       "      <td>0</td>\n",
       "      <td>1</td>\n",
       "      <td>0</td>\n",
       "      <td>2</td>\n",
       "      <td>1</td>\n",
       "      <td>0</td>\n",
       "      <td>0</td>\n",
       "      <td>1</td>\n",
       "      <td>0</td>\n",
       "      <td>1</td>\n",
       "      <td>0</td>\n",
       "      <td>0</td>\n",
       "      <td>1</td>\n",
       "      <td>1</td>\n",
       "      <td>0</td>\n",
       "      <td>0</td>\n",
       "      <td>1</td>\n",
       "    </tr>\n",
       "  </tbody>\n",
       "</table>\n",
       "</div>"
      ],
      "text/plain": [
       "   Interests  Shower  WashingMachine  DishWasher  EcoMode  WaterRecycling   \n",
       "0          0       1               1           1        1               1  \\\n",
       "1          0       0               0           1        0               1   \n",
       "2          2       0               0           2        2               1   \n",
       "3          0       1               0           2        0               1   \n",
       "4          0       1               0           2        1               0   \n",
       "\n",
       "   GeneralRecycling  Meat  Gasoline  Age_Old  Age_Young  Estimation_No   \n",
       "0                 0     1         1        1          0              1  \\\n",
       "1                 1     1         1        1          0              1   \n",
       "2                 1     0         1        1          0              1   \n",
       "3                 1     1         1        0          1              1   \n",
       "4                 0     1         0        1          0              0   \n",
       "\n",
       "   Estimation_Yes  Pet_No  Pet_Yes  Garden_No  Garden_Yes  \n",
       "0               0       1        0          1           0  \n",
       "1               0       1        0          0           1  \n",
       "2               0       1        0          1           0  \n",
       "3               0       1        0          1           0  \n",
       "4               1       1        0          0           1  "
      ]
     },
     "execution_count": 55,
     "metadata": {},
     "output_type": "execute_result"
    }
   ],
   "source": [
    "df = pd.read_csv(\"./data/df_for_ML.csv\")\n",
    "\n",
    "df.head()"
   ]
  },
  {
   "cell_type": "markdown",
   "metadata": {},
   "source": [
    "## Machine Learning\n",
    "\n",
    "### Elbow Method"
   ]
  },
  {
   "cell_type": "code",
   "execution_count": 56,
   "metadata": {},
   "outputs": [
    {
     "data": {
      "image/png": "[encoded data removed]",
      "text/plain": [
       "<Figure size 640x480 with 1 Axes>"
      ]
     },
     "metadata": {},
     "output_type": "display_data"
    },
    {
     "name": "stdout",
     "output_type": "stream",
     "text": [
      "[0.57506361 0.79898219 0.56149279 1.10008482 0.66581849 0.51229856\n",
      " 0.34435963 0.80661578 0.75487701 0.62256149 0.37743851 0.28244275\n",
      " 0.71755725 0.64122137 0.35877863 0.78371501 0.21628499]\n"
     ]
    }
   ],
   "source": [
    "# Realizar el bucle para encontrar el número óptimo de clusters usando el método del codo\n",
    "inertias = []\n",
    "\n",
    "for n_clusters in range(1, 11):\n",
    "    kmeans = KMeans(n_clusters=n_clusters, n_init=10, random_state=42)\n",
    "    kmeans.fit(df)\n",
    "    inertias.append(kmeans.inertia_)\n",
    "\n",
    "\n",
    "# Graficar la curva del codo\n",
    "plt.plot(range(1, 11), inertias, marker='o')\n",
    "plt.xlabel('Número de Clusters')\n",
    "plt.ylabel('Inercia')\n",
    "plt.title('Método del Codo')\n",
    "plt.show()\n",
    "\n",
    "# Entrenar el modelo K-means con el número óptimo de clusters seleccionado por el método del codo\n",
    "optimal_num_clusters = np.argmin(np.diff(inertias)) + 1\n",
    "kmeans = KMeans(n_clusters=optimal_num_clusters, n_init=10, random_state=42)\n",
    "kmeans.fit(df)\n",
    "\n",
    "# Obtener los centroides de los clusters\n",
    "centroids = kmeans.cluster_centers_\n",
    "\n",
    "# Imprimir los centroides\n",
    "for centroid in centroids:\n",
    "    print(centroid)"
   ]
  },
  {
   "cell_type": "markdown",
   "metadata": {},
   "source": [
    "### Silhouette Score\n",
    "\n",
    "The Silhouette Score is a metric used to evaluate the `quality` of clustering results. \n",
    "It provides a measure of how well each sample in a cluster is assigned to its own cluster compared to other clusters. \n",
    "The Silhouette Score can `range from -1 to 1`, where:\n",
    "\n",
    "A score close to `+1` indicates that samples are `well-clustered`, with clear separation between clusters.\n",
    "\n",
    "A score close to `0` indicates `overlapping clusters` or that samples are on or very close to the decision boundary between clusters.\n",
    "\n",
    "A score close to `-1` indicates that samples may have been `assigned to the wrong clusters.`"
   ]
  },
  {
   "cell_type": "code",
   "execution_count": 57,
   "metadata": {},
   "outputs": [
    {
     "data": {
      "image/png": "[encoded data removed]",
      "text/plain": [
       "<Figure size 800x300 with 1 Axes>"
      ]
     },
     "metadata": {},
     "output_type": "display_data"
    }
   ],
   "source": [
    "\n",
    "kmeans_per_k = [KMeans(n_clusters=k, n_init=10, random_state=42).fit(df) for k in range(1,10)]\n",
    "\n",
    "silhouette_scores = [silhouette_score(df, model.labels_) for model in kmeans_per_k[1:]]\n",
    "\n",
    "silhouette_scores_cluster_2 = silhouette_scores[0]\n",
    "\n",
    "plt.figure(figsize=(8, 3))\n",
    "plt.plot(range(2, 10), silhouette_scores, \"bo-\")\n",
    "plt.xlabel(\"$k$\", fontsize=14)\n",
    "plt.ylabel(\"Silhouette score\", fontsize=14)\n",
    "plt.show()"
   ]
  },
  {
   "cell_type": "code",
   "execution_count": 58,
   "metadata": {},
   "outputs": [
    {
     "data": {
      "text/plain": [
       "array([0, 0, 0, ..., 0, 0, 0], dtype=int32)"
      ]
     },
     "execution_count": 58,
     "metadata": {},
     "output_type": "execute_result"
    }
   ],
   "source": [
    "kmeans.labels_"
   ]
  },
  {
   "cell_type": "code",
   "execution_count": 59,
   "metadata": {},
   "outputs": [
    {
     "data": {
      "text/plain": [
       "<Axes: ylabel='count'>"
      ]
     },
     "execution_count": 59,
     "metadata": {},
     "output_type": "execute_result"
    },
    {
     "data": {
      "image/png": "[encoded data removed]",
      "text/plain": [
       "<Figure size 640x480 with 1 Axes>"
      ]
     },
     "metadata": {},
     "output_type": "display_data"
    }
   ],
   "source": [
    "kmeans = KMeans(n_clusters = 2,n_init=10, random_state=42).fit(df)\n",
    "\n",
    "df_graph = pd.DataFrame({\"Data\": kmeans.labels_})\n",
    "df_graph[\"Data\"].value_counts().plot.pie(autopct=\"%.1f%%\")"
   ]
  },
  {
   "cell_type": "code",
   "execution_count": 60,
   "metadata": {},
   "outputs": [
    {
     "data": {
      "text/html": [
       "<div>\n",
       "<style scoped>\n",
       "    .dataframe tbody tr th:only-of-type {\n",
       "        vertical-align: middle;\n",
       "    }\n",
       "\n",
       "    .dataframe tbody tr th {\n",
       "        vertical-align: top;\n",
       "    }\n",
       "\n",
       "    .dataframe thead th {\n",
       "        text-align: right;\n",
       "    }\n",
       "</style>\n",
       "<table border=\"1\" class=\"dataframe\">\n",
       "  <thead>\n",
       "    <tr style=\"text-align: right;\">\n",
       "      <th></th>\n",
       "      <th>Interests</th>\n",
       "      <th>Shower</th>\n",
       "      <th>WashingMachine</th>\n",
       "      <th>DishWasher</th>\n",
       "      <th>EcoMode</th>\n",
       "      <th>WaterRecycling</th>\n",
       "      <th>GeneralRecycling</th>\n",
       "      <th>Meat</th>\n",
       "      <th>Gasoline</th>\n",
       "      <th>Age_Old</th>\n",
       "      <th>Age_Young</th>\n",
       "      <th>Estimation_No</th>\n",
       "      <th>Estimation_Yes</th>\n",
       "      <th>Pet_No</th>\n",
       "      <th>Pet_Yes</th>\n",
       "      <th>Garden_No</th>\n",
       "      <th>Garden_Yes</th>\n",
       "    </tr>\n",
       "  </thead>\n",
       "  <tbody>\n",
       "    <tr>\n",
       "      <th>0</th>\n",
       "      <td>1.798193</td>\n",
       "      <td>1.033133</td>\n",
       "      <td>0.662651</td>\n",
       "      <td>1.078313</td>\n",
       "      <td>0.849398</td>\n",
       "      <td>0.620482</td>\n",
       "      <td>0.626506</td>\n",
       "      <td>0.831325</td>\n",
       "      <td>0.695783</td>\n",
       "      <td>0.376506</td>\n",
       "      <td>0.623494</td>\n",
       "      <td>0.307229</td>\n",
       "      <td>0.692771</td>\n",
       "      <td>0.569277</td>\n",
       "      <td>0.430723</td>\n",
       "      <td>0.813253</td>\n",
       "      <td>0.186747</td>\n",
       "    </tr>\n",
       "    <tr>\n",
       "      <th>1</th>\n",
       "      <td>0.095632</td>\n",
       "      <td>0.707202</td>\n",
       "      <td>0.521842</td>\n",
       "      <td>1.108619</td>\n",
       "      <td>0.593861</td>\n",
       "      <td>0.469894</td>\n",
       "      <td>0.233766</td>\n",
       "      <td>0.796930</td>\n",
       "      <td>0.778040</td>\n",
       "      <td>0.719008</td>\n",
       "      <td>0.280992</td>\n",
       "      <td>0.272727</td>\n",
       "      <td>0.727273</td>\n",
       "      <td>0.669421</td>\n",
       "      <td>0.330579</td>\n",
       "      <td>0.772137</td>\n",
       "      <td>0.227863</td>\n",
       "    </tr>\n",
       "  </tbody>\n",
       "</table>\n",
       "</div>"
      ],
      "text/plain": [
       "   Interests    Shower  WashingMachine  DishWasher   EcoMode  WaterRecycling   \n",
       "0   1.798193  1.033133        0.662651    1.078313  0.849398        0.620482  \\\n",
       "1   0.095632  0.707202        0.521842    1.108619  0.593861        0.469894   \n",
       "\n",
       "   GeneralRecycling      Meat  Gasoline   Age_Old  Age_Young  Estimation_No   \n",
       "0          0.626506  0.831325  0.695783  0.376506   0.623494       0.307229  \\\n",
       "1          0.233766  0.796930  0.778040  0.719008   0.280992       0.272727   \n",
       "\n",
       "   Estimation_Yes    Pet_No   Pet_Yes  Garden_No  Garden_Yes  \n",
       "0        0.692771  0.569277  0.430723   0.813253    0.186747  \n",
       "1        0.727273  0.669421  0.330579   0.772137    0.227863  "
      ]
     },
     "execution_count": 60,
     "metadata": {},
     "output_type": "execute_result"
    }
   ],
   "source": [
    "# Here we can see the N number of centroids of each cluster\n",
    "centers = kmeans.cluster_centers_\n",
    "\n",
    "# Get column name\n",
    "feature_names = df.columns\n",
    "\n",
    "# Show centroids as df\n",
    "cluster_centers_df = pd.DataFrame(centers, columns=feature_names)\n",
    "cluster_centers_df"
   ]
  },
  {
   "cell_type": "markdown",
   "metadata": {},
   "source": [
    "### ☹️ Since we are not happy with these results we are going to create an algorithm to find the best feature combination.\n",
    "\n",
    "#### From optimal_features notebook we have found that the best combination of features are:\n",
    "\n",
    "* Interests\t\n",
    "* WaterRecycling\t\n",
    "* GeneralRecycling\t\n",
    "* Meat\t\n",
    "* Garden_No\t\n",
    "* Garden_Yes\t\n",
    "\n",
    "\n"
   ]
  },
  {
   "cell_type": "code",
   "execution_count": 61,
   "metadata": {},
   "outputs": [
    {
     "data": {
      "text/html": [
       "<div>\n",
       "<style scoped>\n",
       "    .dataframe tbody tr th:only-of-type {\n",
       "        vertical-align: middle;\n",
       "    }\n",
       "\n",
       "    .dataframe tbody tr th {\n",
       "        vertical-align: top;\n",
       "    }\n",
       "\n",
       "    .dataframe thead th {\n",
       "        text-align: right;\n",
       "    }\n",
       "</style>\n",
       "<table border=\"1\" class=\"dataframe\">\n",
       "  <thead>\n",
       "    <tr style=\"text-align: right;\">\n",
       "      <th></th>\n",
       "      <th>Interests</th>\n",
       "      <th>WaterRecycling</th>\n",
       "      <th>GeneralRecycling</th>\n",
       "      <th>Meat</th>\n",
       "      <th>Garden_No</th>\n",
       "      <th>Garden_Yes</th>\n",
       "    </tr>\n",
       "  </thead>\n",
       "  <tbody>\n",
       "    <tr>\n",
       "      <th>0</th>\n",
       "      <td>0</td>\n",
       "      <td>1</td>\n",
       "      <td>0</td>\n",
       "      <td>1</td>\n",
       "      <td>1</td>\n",
       "      <td>0</td>\n",
       "    </tr>\n",
       "    <tr>\n",
       "      <th>1</th>\n",
       "      <td>0</td>\n",
       "      <td>1</td>\n",
       "      <td>1</td>\n",
       "      <td>1</td>\n",
       "      <td>0</td>\n",
       "      <td>1</td>\n",
       "    </tr>\n",
       "    <tr>\n",
       "      <th>2</th>\n",
       "      <td>2</td>\n",
       "      <td>1</td>\n",
       "      <td>1</td>\n",
       "      <td>0</td>\n",
       "      <td>1</td>\n",
       "      <td>0</td>\n",
       "    </tr>\n",
       "    <tr>\n",
       "      <th>3</th>\n",
       "      <td>0</td>\n",
       "      <td>1</td>\n",
       "      <td>1</td>\n",
       "      <td>1</td>\n",
       "      <td>1</td>\n",
       "      <td>0</td>\n",
       "    </tr>\n",
       "    <tr>\n",
       "      <th>4</th>\n",
       "      <td>0</td>\n",
       "      <td>0</td>\n",
       "      <td>0</td>\n",
       "      <td>1</td>\n",
       "      <td>0</td>\n",
       "      <td>1</td>\n",
       "    </tr>\n",
       "    <tr>\n",
       "      <th>...</th>\n",
       "      <td>...</td>\n",
       "      <td>...</td>\n",
       "      <td>...</td>\n",
       "      <td>...</td>\n",
       "      <td>...</td>\n",
       "      <td>...</td>\n",
       "    </tr>\n",
       "    <tr>\n",
       "      <th>1174</th>\n",
       "      <td>2</td>\n",
       "      <td>1</td>\n",
       "      <td>2</td>\n",
       "      <td>0</td>\n",
       "      <td>1</td>\n",
       "      <td>0</td>\n",
       "    </tr>\n",
       "    <tr>\n",
       "      <th>1175</th>\n",
       "      <td>1</td>\n",
       "      <td>0</td>\n",
       "      <td>1</td>\n",
       "      <td>1</td>\n",
       "      <td>1</td>\n",
       "      <td>0</td>\n",
       "    </tr>\n",
       "    <tr>\n",
       "      <th>1176</th>\n",
       "      <td>2</td>\n",
       "      <td>1</td>\n",
       "      <td>0</td>\n",
       "      <td>1</td>\n",
       "      <td>1</td>\n",
       "      <td>0</td>\n",
       "    </tr>\n",
       "    <tr>\n",
       "      <th>1177</th>\n",
       "      <td>2</td>\n",
       "      <td>1</td>\n",
       "      <td>1</td>\n",
       "      <td>1</td>\n",
       "      <td>1</td>\n",
       "      <td>0</td>\n",
       "    </tr>\n",
       "    <tr>\n",
       "      <th>1178</th>\n",
       "      <td>2</td>\n",
       "      <td>1</td>\n",
       "      <td>0</td>\n",
       "      <td>1</td>\n",
       "      <td>1</td>\n",
       "      <td>0</td>\n",
       "    </tr>\n",
       "  </tbody>\n",
       "</table>\n",
       "<p>1179 rows × 6 columns</p>\n",
       "</div>"
      ],
      "text/plain": [
       "      Interests  WaterRecycling  GeneralRecycling  Meat  Garden_No  Garden_Yes\n",
       "0             0               1                 0     1          1           0\n",
       "1             0               1                 1     1          0           1\n",
       "2             2               1                 1     0          1           0\n",
       "3             0               1                 1     1          1           0\n",
       "4             0               0                 0     1          0           1\n",
       "...         ...             ...               ...   ...        ...         ...\n",
       "1174          2               1                 2     0          1           0\n",
       "1175          1               0                 1     1          1           0\n",
       "1176          2               1                 0     1          1           0\n",
       "1177          2               1                 1     1          1           0\n",
       "1178          2               1                 0     1          1           0\n",
       "\n",
       "[1179 rows x 6 columns]"
      ]
     },
     "execution_count": 61,
     "metadata": {},
     "output_type": "execute_result"
    }
   ],
   "source": [
    "optimal_df = df[['Interests', 'WaterRecycling',\"GeneralRecycling\",\"Meat\",\"Garden_No\",\"Garden_Yes\"]]\n",
    "optimal_df"
   ]
  },
  {
   "cell_type": "code",
   "execution_count": 80,
   "metadata": {},
   "outputs": [],
   "source": [
    "optimal_df.to_csv(r'./data/df_ML_optimal.csv', index=False)"
   ]
  },
  {
   "cell_type": "code",
   "execution_count": 62,
   "metadata": {},
   "outputs": [
    {
     "data": {
      "image/png": "[encoded data removed]",
      "text/plain": [
       "<Figure size 640x480 with 1 Axes>"
      ]
     },
     "metadata": {},
     "output_type": "display_data"
    },
    {
     "name": "stdout",
     "output_type": "stream",
     "text": [
      "[0.57506361 0.51229856 0.34435963 0.80661578 0.78371501 0.21628499]\n"
     ]
    }
   ],
   "source": [
    "# Realizar el bucle para encontrar el número óptimo de clusters usando el método del codo\n",
    "inertias = []\n",
    "\n",
    "for n_clusters in range(1, 11):\n",
    "    kmeans_optimal = KMeans(n_clusters=n_clusters, n_init=10, random_state=42)\n",
    "    kmeans_optimal.fit(optimal_df)\n",
    "    inertias.append(kmeans_optimal.inertia_)\n",
    "\n",
    "\n",
    "# Graficar la curva del codo\n",
    "plt.plot(range(1, 11), inertias, marker='o')\n",
    "plt.xlabel('Número de Clusters')\n",
    "plt.ylabel('Inercia')\n",
    "plt.title('Método del Codo')\n",
    "plt.show()\n",
    "\n",
    "# Entrenar el modelo K-means con el número óptimo de clusters seleccionado por el método del codo\n",
    "optimal_num_clusters = np.argmin(np.diff(inertias)) + 1\n",
    "kmeans_optimal = KMeans(n_clusters=optimal_num_clusters, n_init=10, random_state=42)\n",
    "kmeans_optimal.fit(optimal_df)\n",
    "\n",
    "# Obtener los centroides de los clusters\n",
    "centroids = kmeans_optimal.cluster_centers_\n",
    "\n",
    "# Imprimir los centroides\n",
    "for centroid in centroids:\n",
    "    print(centroid)"
   ]
  },
  {
   "cell_type": "code",
   "execution_count": 63,
   "metadata": {},
   "outputs": [
    {
     "data": {
      "image/png": "[encoded data removed]",
      "text/plain": [
       "<Figure size 800x300 with 1 Axes>"
      ]
     },
     "metadata": {},
     "output_type": "display_data"
    }
   ],
   "source": [
    "kmeans_optimal_per_k = [KMeans(n_clusters=k, n_init=10, random_state=42).fit(optimal_df) for k in range(1,10)]\n",
    "\n",
    "silhouette_scores = [silhouette_score(optimal_df, model.labels_) for model in kmeans_optimal_per_k[1:]]\n",
    "\n",
    "\n",
    "silhouette_scores_optimal_cluster_2 = silhouette_scores[0]\n",
    "\n",
    "plt.figure(figsize=(8, 3))\n",
    "plt.plot(range(2, 10), silhouette_scores, \"bo-\")\n",
    "plt.xlabel(\"$k$\", fontsize=14)\n",
    "plt.ylabel(\"Silhouette score\", fontsize=14)\n",
    "plt.show()"
   ]
  },
  {
   "cell_type": "code",
   "execution_count": 64,
   "metadata": {},
   "outputs": [
    {
     "data": {
      "text/plain": [
       "array([0, 0, 0, ..., 0, 0, 0], dtype=int32)"
      ]
     },
     "execution_count": 64,
     "metadata": {},
     "output_type": "execute_result"
    }
   ],
   "source": [
    "kmeans_optimal.labels_"
   ]
  },
  {
   "cell_type": "code",
   "execution_count": 65,
   "metadata": {},
   "outputs": [
    {
     "data": {
      "text/plain": [
       "<Axes: ylabel='count'>"
      ]
     },
     "execution_count": 65,
     "metadata": {},
     "output_type": "execute_result"
    },
    {
     "data": {
      "image/png": "[encoded data removed]",
      "text/plain": [
       "<Figure size 640x480 with 1 Axes>"
      ]
     },
     "metadata": {},
     "output_type": "display_data"
    }
   ],
   "source": [
    "kmeans_optimal = KMeans(n_clusters = 2,n_init=10, random_state=42).fit(optimal_df)\n",
    "\n",
    "optimal_df_graph = pd.DataFrame({\"Data\": kmeans_optimal.labels_})\n",
    "optimal_df_graph[\"Data\"].value_counts().plot.pie(autopct=\"%.1f%%\")"
   ]
  },
  {
   "cell_type": "markdown",
   "metadata": {},
   "source": [
    "## Now we can compare both model performance scores"
   ]
  },
  {
   "cell_type": "code",
   "execution_count": 66,
   "metadata": {},
   "outputs": [
    {
     "data": {
      "text/html": [
       "<div>\n",
       "<style scoped>\n",
       "    .dataframe tbody tr th:only-of-type {\n",
       "        vertical-align: middle;\n",
       "    }\n",
       "\n",
       "    .dataframe tbody tr th {\n",
       "        vertical-align: top;\n",
       "    }\n",
       "\n",
       "    .dataframe thead th {\n",
       "        text-align: right;\n",
       "    }\n",
       "</style>\n",
       "<table border=\"1\" class=\"dataframe\">\n",
       "  <thead>\n",
       "    <tr style=\"text-align: right;\">\n",
       "      <th></th>\n",
       "      <th>Interests</th>\n",
       "      <th>WaterRecycling</th>\n",
       "      <th>GeneralRecycling</th>\n",
       "      <th>Meat</th>\n",
       "      <th>Garden_No</th>\n",
       "      <th>Garden_Yes</th>\n",
       "    </tr>\n",
       "  </thead>\n",
       "  <tbody>\n",
       "    <tr>\n",
       "      <th>0</th>\n",
       "      <td>1.875817</td>\n",
       "      <td>0.611111</td>\n",
       "      <td>0.696078</td>\n",
       "      <td>0.843137</td>\n",
       "      <td>0.810458</td>\n",
       "      <td>0.189542</td>\n",
       "    </tr>\n",
       "    <tr>\n",
       "      <th>1</th>\n",
       "      <td>0.119129</td>\n",
       "      <td>0.477663</td>\n",
       "      <td>0.221077</td>\n",
       "      <td>0.793814</td>\n",
       "      <td>0.774341</td>\n",
       "      <td>0.225659</td>\n",
       "    </tr>\n",
       "  </tbody>\n",
       "</table>\n",
       "</div>"
      ],
      "text/plain": [
       "   Interests  WaterRecycling  GeneralRecycling      Meat  Garden_No   \n",
       "0   1.875817        0.611111          0.696078  0.843137   0.810458  \\\n",
       "1   0.119129        0.477663          0.221077  0.793814   0.774341   \n",
       "\n",
       "   Garden_Yes  \n",
       "0    0.189542  \n",
       "1    0.225659  "
      ]
     },
     "execution_count": 66,
     "metadata": {},
     "output_type": "execute_result"
    }
   ],
   "source": [
    "# Here we can see the N number of centroids of each cluster\n",
    "centers = kmeans_optimal.cluster_centers_\n",
    "\n",
    "# Get column name\n",
    "feature_names = optimal_df.columns\n",
    "\n",
    "# Show centroids as optimal_df\n",
    "cluster_centers_optimal_df = pd.DataFrame(centers, columns=feature_names)\n",
    "cluster_centers_optimal_df"
   ]
  },
  {
   "cell_type": "code",
   "execution_count": 67,
   "metadata": {},
   "outputs": [
    {
     "data": {
      "text/html": [
       "<div>\n",
       "<style scoped>\n",
       "    .dataframe tbody tr th:only-of-type {\n",
       "        vertical-align: middle;\n",
       "    }\n",
       "\n",
       "    .dataframe tbody tr th {\n",
       "        vertical-align: top;\n",
       "    }\n",
       "\n",
       "    .dataframe thead th {\n",
       "        text-align: right;\n",
       "    }\n",
       "</style>\n",
       "<table border=\"1\" class=\"dataframe\">\n",
       "  <thead>\n",
       "    <tr style=\"text-align: right;\">\n",
       "      <th></th>\n",
       "      <th>Interests</th>\n",
       "      <th>Shower</th>\n",
       "      <th>WashingMachine</th>\n",
       "      <th>DishWasher</th>\n",
       "      <th>EcoMode</th>\n",
       "      <th>WaterRecycling</th>\n",
       "      <th>GeneralRecycling</th>\n",
       "      <th>Meat</th>\n",
       "      <th>Gasoline</th>\n",
       "      <th>Age_Old</th>\n",
       "      <th>Age_Young</th>\n",
       "      <th>Estimation_No</th>\n",
       "      <th>Estimation_Yes</th>\n",
       "      <th>Pet_No</th>\n",
       "      <th>Pet_Yes</th>\n",
       "      <th>Garden_No</th>\n",
       "      <th>Garden_Yes</th>\n",
       "    </tr>\n",
       "  </thead>\n",
       "  <tbody>\n",
       "    <tr>\n",
       "      <th>0</th>\n",
       "      <td>1.798193</td>\n",
       "      <td>1.033133</td>\n",
       "      <td>0.662651</td>\n",
       "      <td>1.078313</td>\n",
       "      <td>0.849398</td>\n",
       "      <td>0.620482</td>\n",
       "      <td>0.626506</td>\n",
       "      <td>0.831325</td>\n",
       "      <td>0.695783</td>\n",
       "      <td>0.376506</td>\n",
       "      <td>0.623494</td>\n",
       "      <td>0.307229</td>\n",
       "      <td>0.692771</td>\n",
       "      <td>0.569277</td>\n",
       "      <td>0.430723</td>\n",
       "      <td>0.813253</td>\n",
       "      <td>0.186747</td>\n",
       "    </tr>\n",
       "    <tr>\n",
       "      <th>1</th>\n",
       "      <td>0.095632</td>\n",
       "      <td>0.707202</td>\n",
       "      <td>0.521842</td>\n",
       "      <td>1.108619</td>\n",
       "      <td>0.593861</td>\n",
       "      <td>0.469894</td>\n",
       "      <td>0.233766</td>\n",
       "      <td>0.796930</td>\n",
       "      <td>0.778040</td>\n",
       "      <td>0.719008</td>\n",
       "      <td>0.280992</td>\n",
       "      <td>0.272727</td>\n",
       "      <td>0.727273</td>\n",
       "      <td>0.669421</td>\n",
       "      <td>0.330579</td>\n",
       "      <td>0.772137</td>\n",
       "      <td>0.227863</td>\n",
       "    </tr>\n",
       "  </tbody>\n",
       "</table>\n",
       "</div>"
      ],
      "text/plain": [
       "   Interests    Shower  WashingMachine  DishWasher   EcoMode  WaterRecycling   \n",
       "0   1.798193  1.033133        0.662651    1.078313  0.849398        0.620482  \\\n",
       "1   0.095632  0.707202        0.521842    1.108619  0.593861        0.469894   \n",
       "\n",
       "   GeneralRecycling      Meat  Gasoline   Age_Old  Age_Young  Estimation_No   \n",
       "0          0.626506  0.831325  0.695783  0.376506   0.623494       0.307229  \\\n",
       "1          0.233766  0.796930  0.778040  0.719008   0.280992       0.272727   \n",
       "\n",
       "   Estimation_Yes    Pet_No   Pet_Yes  Garden_No  Garden_Yes  \n",
       "0        0.692771  0.569277  0.430723   0.813253    0.186747  \n",
       "1        0.727273  0.669421  0.330579   0.772137    0.227863  "
      ]
     },
     "execution_count": 67,
     "metadata": {},
     "output_type": "execute_result"
    }
   ],
   "source": [
    "cluster_centers_df"
   ]
  },
  {
   "cell_type": "markdown",
   "metadata": {},
   "source": [
    "## Model comparisons!"
   ]
  },
  {
   "cell_type": "code",
   "execution_count": 73,
   "metadata": {},
   "outputs": [
    {
     "data": {
      "text/html": [
       "<div>\n",
       "<style scoped>\n",
       "    .dataframe tbody tr th:only-of-type {\n",
       "        vertical-align: middle;\n",
       "    }\n",
       "\n",
       "    .dataframe tbody tr th {\n",
       "        vertical-align: top;\n",
       "    }\n",
       "\n",
       "    .dataframe thead th {\n",
       "        text-align: right;\n",
       "    }\n",
       "</style>\n",
       "<table border=\"1\" class=\"dataframe\">\n",
       "  <thead>\n",
       "    <tr style=\"text-align: right;\">\n",
       "      <th></th>\n",
       "      <th>Model</th>\n",
       "      <th>Inertia</th>\n",
       "      <th>Silhouette</th>\n",
       "    </tr>\n",
       "  </thead>\n",
       "  <tbody>\n",
       "    <tr>\n",
       "      <th>0</th>\n",
       "      <td>Intuition</td>\n",
       "      <td>5235.806230</td>\n",
       "      <td>0.170541</td>\n",
       "    </tr>\n",
       "    <tr>\n",
       "      <th>1</th>\n",
       "      <td>Optimal</td>\n",
       "      <td>1324.956472</td>\n",
       "      <td>0.408250</td>\n",
       "    </tr>\n",
       "  </tbody>\n",
       "</table>\n",
       "</div>"
      ],
      "text/plain": [
       "       Model      Inertia  Silhouette\n",
       "0  Intuition  5235.806230    0.170541\n",
       "1    Optimal  1324.956472    0.408250"
      ]
     },
     "execution_count": 73,
     "metadata": {},
     "output_type": "execute_result"
    }
   ],
   "source": [
    "comparison_df_results = pd.DataFrame({\n",
    "    'Model': [\"Intuition\", \"Optimal\"],\n",
    "    'Inertia': [kmeans.inertia_, kmeans_optimal.inertia_],\n",
    "    'Silhouette': [silhouette_scores_cluster_2, silhouette_scores_optimal_cluster_2],\n",
    "\n",
    "})\n",
    "\n",
    "comparison_df_results"
   ]
  },
  {
   "cell_type": "markdown",
   "metadata": {},
   "source": [
    "### Export in pickle optimal model"
   ]
  },
  {
   "cell_type": "code",
   "execution_count": 74,
   "metadata": {},
   "outputs": [],
   "source": [
    "# Export the k-means model to a pickle file\n",
    "with open('kmeans_model.pkl', 'wb') as f:\n",
    "    pickle.dump(kmeans_optimal, f)"
   ]
  },
  {
   "cell_type": "code",
   "execution_count": 76,
   "metadata": {},
   "outputs": [],
   "source": [
    "# Read model\n",
    "with open(\"kmeans_model.pkl\", \"rb\") as archivo_entrada:\n",
    "    pickle_kmeans_optimal = pickle.load(archivo_entrada)"
   ]
  },
  {
   "cell_type": "code",
   "execution_count": 78,
   "metadata": {},
   "outputs": [
    {
     "data": {
      "text/html": [
       "<style>#sk-container-id-2 {color: black;background-color: white;}#sk-container-id-2 pre{padding: 0;}#sk-container-id-2 div.sk-toggleable {background-color: white;}#sk-container-id-2 label.sk-toggleable__label {cursor: pointer;display: block;width: 100%;margin-bottom: 0;padding: 0.3em;box-sizing: border-box;text-align: center;}#sk-container-id-2 label.sk-toggleable__label-arrow:before {content: \"▸\";float: left;margin-right: 0.25em;color: #696969;}#sk-container-id-2 label.sk-toggleable__label-arrow:hover:before {color: black;}#sk-container-id-2 div.sk-estimator:hover label.sk-toggleable__label-arrow:before {color: black;}#sk-container-id-2 div.sk-toggleable__content {max-height: 0;max-width: 0;overflow: hidden;text-align: left;background-color: #f0f8ff;}#sk-container-id-2 div.sk-toggleable__content pre {margin: 0.2em;color: black;border-radius: 0.25em;background-color: #f0f8ff;}#sk-container-id-2 input.sk-toggleable__control:checked~div.sk-toggleable__content {max-height: 200px;max-width: 100%;overflow: auto;}#sk-container-id-2 input.sk-toggleable__control:checked~label.sk-toggleable__label-arrow:before {content: \"▾\";}#sk-container-id-2 div.sk-estimator input.sk-toggleable__control:checked~label.sk-toggleable__label {background-color: #d4ebff;}#sk-container-id-2 div.sk-label input.sk-toggleable__control:checked~label.sk-toggleable__label {background-color: #d4ebff;}#sk-container-id-2 input.sk-hidden--visually {border: 0;clip: rect(1px 1px 1px 1px);clip: rect(1px, 1px, 1px, 1px);height: 1px;margin: -1px;overflow: hidden;padding: 0;position: absolute;width: 1px;}#sk-container-id-2 div.sk-estimator {font-family: monospace;background-color: #f0f8ff;border: 1px dotted black;border-radius: 0.25em;box-sizing: border-box;margin-bottom: 0.5em;}#sk-container-id-2 div.sk-estimator:hover {background-color: #d4ebff;}#sk-container-id-2 div.sk-parallel-item::after {content: \"\";width: 100%;border-bottom: 1px solid gray;flex-grow: 1;}#sk-container-id-2 div.sk-label:hover label.sk-toggleable__label {background-color: #d4ebff;}#sk-container-id-2 div.sk-serial::before {content: \"\";position: absolute;border-left: 1px solid gray;box-sizing: border-box;top: 0;bottom: 0;left: 50%;z-index: 0;}#sk-container-id-2 div.sk-serial {display: flex;flex-direction: column;align-items: center;background-color: white;padding-right: 0.2em;padding-left: 0.2em;position: relative;}#sk-container-id-2 div.sk-item {position: relative;z-index: 1;}#sk-container-id-2 div.sk-parallel {display: flex;align-items: stretch;justify-content: center;background-color: white;position: relative;}#sk-container-id-2 div.sk-item::before, #sk-container-id-2 div.sk-parallel-item::before {content: \"\";position: absolute;border-left: 1px solid gray;box-sizing: border-box;top: 0;bottom: 0;left: 50%;z-index: -1;}#sk-container-id-2 div.sk-parallel-item {display: flex;flex-direction: column;z-index: 1;position: relative;background-color: white;}#sk-container-id-2 div.sk-parallel-item:first-child::after {align-self: flex-end;width: 50%;}#sk-container-id-2 div.sk-parallel-item:last-child::after {align-self: flex-start;width: 50%;}#sk-container-id-2 div.sk-parallel-item:only-child::after {width: 0;}#sk-container-id-2 div.sk-dashed-wrapped {border: 1px dashed gray;margin: 0 0.4em 0.5em 0.4em;box-sizing: border-box;padding-bottom: 0.4em;background-color: white;}#sk-container-id-2 div.sk-label label {font-family: monospace;font-weight: bold;display: inline-block;line-height: 1.2em;}#sk-container-id-2 div.sk-label-container {text-align: center;}#sk-container-id-2 div.sk-container {/* jupyter's `normalize.less` sets `[hidden] { display: none; }` but bootstrap.min.css set `[hidden] { display: none !important; }` so we also need the `!important` here to be able to override the default hidden behavior on the sphinx rendered scikit-learn.org. See: https://github.com/scikit-learn/scikit-learn/issues/21755 */display: inline-block !important;position: relative;}#sk-container-id-2 div.sk-text-repr-fallback {display: none;}</style><div id=\"sk-container-id-2\" class=\"sk-top-container\"><div class=\"sk-text-repr-fallback\"><pre>KMeans(n_clusters=2, n_init=10, random_state=42)</pre><b>In a Jupyter environment, please rerun this cell to show the HTML representation or trust the notebook. <br />On GitHub, the HTML representation is unable to render, please try loading this page with nbviewer.org.</b></div><div class=\"sk-container\" hidden><div class=\"sk-item\"><div class=\"sk-estimator sk-toggleable\"><input class=\"sk-toggleable__control sk-hidden--visually\" id=\"sk-estimator-id-2\" type=\"checkbox\" checked><label for=\"sk-estimator-id-2\" class=\"sk-toggleable__label sk-toggleable__label-arrow\">KMeans</label><div class=\"sk-toggleable__content\"><pre>KMeans(n_clusters=2, n_init=10, random_state=42)</pre></div></div></div></div></div>"
      ],
      "text/plain": [
       "KMeans(n_clusters=2, n_init=10, random_state=42)"
      ]
     },
     "execution_count": 78,
     "metadata": {},
     "output_type": "execute_result"
    }
   ],
   "source": [
    "pickle_kmeans_optimal"
   ]
  },
  {
   "cell_type": "markdown",
   "metadata": {},
   "source": [
    "### Test our model"
   ]
  },
  {
   "cell_type": "code",
   "execution_count": 79,
   "metadata": {},
   "outputs": [
    {
     "name": "stdout",
     "output_type": "stream",
     "text": [
      "[[2 0 0 1 1 0]]\n",
      "[[0 1 0 1 1 0]]\n",
      "[0]\n",
      "[1]\n"
     ]
    }
   ],
   "source": [
    "# Extract the values of the row into a NumPy array and transform to 2D  \n",
    "sample_survey_0 = optimal_df.iloc[100].values.reshape(1, -1)\n",
    "sample_survey_1 = optimal_df.iloc[0].values.reshape(1, -1)\n",
    "\n",
    "# Print the row values\n",
    "print(sample_survey_0)\n",
    "print(sample_survey_1)\n",
    "\n",
    "\n",
    "# Set sample as optimal_df to prevent error.\n",
    "sample_survey_optimal_df_0 = pd.DataFrame(sample_survey_0, columns=feature_names)\n",
    "sample_survey_optimal_df_1 = pd.DataFrame(sample_survey_1, columns=feature_names)\n",
    "\n",
    "# Give me a prediction of 0\n",
    "print(pickle_kmeans_optimal.predict(sample_survey_optimal_df_0))\n",
    "# Give me a prediction of 1\n",
    "print(pickle_kmeans_optimal.predict(sample_survey_optimal_df_1))"
   ]
  }
 ],
 "metadata": {
  "interpreter": {
   "hash": "aee8b7b246df8f9039afb4144a1f6fd8d2ca17a180786b69acc140d282b71a49"
  },
  "kernelspec": {
   "display_name": "Python 3.8.0 64-bit",
   "language": "python",
   "name": "python3"
  },
  "language_info": {
   "codemirror_mode": {
    "name": "ipython",
    "version": 3
   },
   "file_extension": ".py",
   "mimetype": "text/x-python",
   "name": "python",
   "nbconvert_exporter": "python",
   "pygments_lexer": "ipython3",
   "version": "3.8.0"
  },
  "orig_nbformat": 4
 },
 "nbformat": 4,
 "nbformat_minor": 2
}
