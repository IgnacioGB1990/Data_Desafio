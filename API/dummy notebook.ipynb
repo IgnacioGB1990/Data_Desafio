{
 "cells": [
  {
   "cell_type": "code",
   "execution_count": null,
   "metadata": {},
   "outputs": [],
   "source": [
    "import requests\n",
    "\n",
    "url = 'https://api.footprintnetwork.org/v1/types'\n",
    "user_name = 'username'\n",
    "headers = {\"HTTP_ACCEPT\":\"application/json\"}\n",
    "\n",
    "response = requests.get(url, auth=(user_name, api_key), headers=headers)\n",
    "\n",
    "print('Status code:', response.status_code)\n",
    "print('JSON', response.json())"
   ]
  }
 ],
 "metadata": {
  "language_info": {
   "name": "python"
  },
  "orig_nbformat": 4
 },
 "nbformat": 4,
 "nbformat_minor": 2
}
