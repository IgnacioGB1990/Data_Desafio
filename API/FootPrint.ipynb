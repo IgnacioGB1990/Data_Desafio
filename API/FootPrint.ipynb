{
 "cells": [
  {
   "cell_type": "markdown",
   "metadata": {},
   "source": [
    "### Accessing footprint API\n",
    "\n",
    "\n",
    "We are going to access data from the following API: https://api.footprintnetwork.org/v1/types\n",
    "\n",
    "In order to not compromise our API KEY and publish it in Github we will store it in a .env file and ignore it with .gitignore.\n",
    "\n",
    "We will use `load_dotenv` and `os` to access our key from .env file.\n",
    "\n"
   ]
  },
  {
   "cell_type": "code",
   "execution_count": 4,
   "metadata": {},
   "outputs": [
    {
     "name": "stdout",
     "output_type": "stream",
     "text": [
      "hello\n"
     ]
    }
   ],
   "source": [
    "import requests\n",
    "from dotenv import load_dotenv\n",
    "import os\n",
    "load_dotenv()\n",
    "\n",
    "\n",
    "\n",
    "API_KEY = os.environ[\"API_KEY_FOOTPRINT\"]\n",
    "\n",
    "print(\"hello\")"
   ]
  },
  {
   "cell_type": "code",
   "execution_count": null,
   "metadata": {},
   "outputs": [],
   "source": [
    "url = 'https://api.footprintnetwork.org/v1/types'\n",
    "user_name = 'username'\n",
    "headers = {\"HTTP_ACCEPT\":\"application/json\"}\n",
    "\n",
    "response = requests.get(url, auth=(user_name, API_KEY), headers=headers)\n",
    "\n",
    "print('Status code:', response.status_code)\n",
    "print('JSON', response.json())"
   ]
  },
  {
   "cell_type": "code",
   "execution_count": null,
   "metadata": {},
   "outputs": [],
   "source": []
  }
 ],
 "metadata": {
  "interpreter": {
   "hash": "bcdc425d517deb9e216693a9add6673374e5d52249ad1f984c9f7bda525a095e"
  },
  "kernelspec": {
   "display_name": "Python 3.9.13 ('base')",
   "language": "python",
   "name": "python3"
  },
  "language_info": {
   "codemirror_mode": {
    "name": "ipython",
    "version": 3
   },
   "file_extension": ".py",
   "mimetype": "text/x-python",
   "name": "python",
   "nbconvert_exporter": "python",
   "pygments_lexer": "ipython3",
   "version": "3.9.13"
  },
  "orig_nbformat": 4
 },
 "nbformat": 4,
 "nbformat_minor": 2
}
