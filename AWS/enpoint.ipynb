{
 "cells": [
  {
   "cell_type": "markdown",
   "metadata": {},
   "source": [
    "# Deploying ML model to AWS ☁️\n",
    "\n",
    "### CREATE INSTANCE:\n",
    "\n",
    "1. Go to AWS and create EC2 ubuntu instance. Allow traffic from everywhere. Tick 3 boxes.\n",
    "2. Open putty and copy instance id info (Click on instance id => Connect => SSH Client)\n",
    "3. Launch instance.  ( pwd => /home/ubuntu )\n",
    "\n",
    "4. Update and install python (1:25):\n",
    "sudo apt-get update\n",
    "sudo apt-get install python3-venv\n",
    "\n",
    "Create prod folder and inside it endpoint:\n",
    "mkdir prod => cd prod => mkdir endpoint\n",
    "\n",
    "Inside endpoint is where we will have our pickle model (kmeans_model.pkl)\n",
    "\n",
    "### Filezilla:\n",
    "1. File => Site Manager\n",
    "2. Connect with instance id\n",
    "3. Get model and app.py and drag to folder endpoint\n",
    "\n",
    "\n",
    "### Create virutal env:\n",
    "python3 -m venv venv\n",
    "\n",
    "Activate it:\n",
    "source venv/bin/activate\n",
    "\n",
    "Install al necessary libraries:\n",
    "pip install numpy\n",
    "pip install flask\n",
    "pip install scikit-learn\n",
    "\n",
    "python app.py\n",
    "\n",
    "### Open Putty and open new terminal:\n",
    "curl http://127.0.0.1:5000\n",
    "mk\n",
    "### Install GUNICORN as a service\n",
    "In endpoint => pip install gunicorn\n",
    "Creamos carpeta de logs (imporante): mkdir logs\n",
    "\n",
    "pero en endpoint:\n",
    "sudo nano gunicorn.conf.py\n",
    "\n",
    "~~~\n",
    "bind=\"0.0.0.0:8000\"\n",
    "workers=1\n",
    "timeout=120\n",
    "accesslog = \"/home/ubuntu/prod/endpoint/logs/gunicorn.access.log\"\n",
    "errorlog = \"/home/ubuntu/prod/endpoint/logs/gunicorn.error.log\"\n",
    "capture_output = True\n",
    "loglevel = \"info\"\n",
    "~~~\n",
    "\n",
    "seguimos en endpoint y pegamos esto:\n",
    "\n",
    "(2:24)\n",
    "/home/ubuntu/prod/endpoint/venv/bin/gunicorn -c /home/ubuntu/prod/endpoint/gunicorn.conf.py app:app\n",
    "\n",
    "`y hago control + c`\n",
    "\n",
    "si queremos chequear que funciona volvemos a abrir otra terminal putty y hacemos:\n",
    "curl http://127.0.0.1:8000\n",
    "\n",
    "\n",
    "Seguimos en endpoint y vamos a cambiar de ruta:\n",
    "cd /etc/systemd/system\n",
    "\n",
    "Creamos el fichero:\n",
    "sudo nano clase.service\n",
    "\n",
    "~~~\n",
    "[Unit]\n",
    "Description=Gunicorn instance for productivization app\n",
    "After=network.target\n",
    "[Service]\n",
    "User=ubuntu\n",
    "Group=ubuntu\n",
    "WorkingDirectory=/home/ubuntu/prod/endpoint\n",
    "ExecStart=/home/ubuntu/prod/endpoint/venv/bin/gunicorn -c /home/ubuntu/prod/endpoint/gunicorn.conf.py app:app\n",
    "Restart=always\n",
    "[Install]\n",
    "WantedBy=multi-user.target\n",
    "~~~\n",
    "\n",
    "sudo systemctl daemon-reload\n",
    "\n",
    "sudo systemctl start clase.service\n",
    "\n",
    "sudo systemctl enable clase.service\n",
    "\n",
    "sudo systemctl status clase.service\n",
    "\n",
    "### Install NGINX (proxy inverso)\n",
    "\n",
    "En ruta endpoint: /etc/systemd/system:\n",
    "\n",
    "(3:15)\n",
    "sudo apt-get install nginx\n",
    "\n",
    "Una vez en /etc/systemd/system$\n",
    "\n",
    "cd /etc/nginx\n",
    "\n",
    "Y entramos en sites available:\n",
    "\n",
    "cd sites-available\n",
    "\n",
    "sudo nano clase\n",
    "\n",
    "~~~\n",
    "server {\n",
    "listen 80;\n",
    "server_name 3.144.196.76; \n",
    "location / {\n",
    "proxy_pass http://127.0.0.1:8000;\n",
    "}\n",
    "}\n",
    "\n",
    "\n",
    "~~~\n",
    "\n",
    "\n",
    "cd ..\n",
    "\n",
    "cd sites-enabled\n",
    "\n",
    "sudo ln -s ../sites-available/clase\n",
    "\n",
    "sudo systemctl start nginx\n",
    "\n",
    "sudo systemctl enable nginx\n",
    "\n",
    "sudo systemctl status nginx\n",
    "\n",
    "\n",
    "\n",
    "\n",
    "\n",
    "Hay volver a pararlo y encenderlo:\n",
    "\n",
    "sudo systemctl stop nginx\n",
    "\n",
    "sudo systemctl start nginx\n"
   ]
  },
  {
   "cell_type": "code",
   "execution_count": null,
   "metadata": {},
   "outputs": [],
   "source": [
    "import pickle\n",
    "import numpy as np\n",
    "import pandas as pd\n",
    "\n",
    "import requests\n",
    "from dotenv import load_dotenv\n",
    "import os"
   ]
  },
  {
   "cell_type": "code",
   "execution_count": 45,
   "metadata": {},
   "outputs": [
    {
     "name": "stdout",
     "output_type": "stream",
     "text": [
      "<h2>THIS IS OUR K-MEANS HOME PAGE</h2>\n"
     ]
    }
   ],
   "source": [
    "load_dotenv()\n",
    "\n",
    "IP = os.environ[\"IP\"]\n",
    "\n",
    "data = requests.get(\"http://\"+IP)\n",
    "print(data.text)"
   ]
  },
  {
   "cell_type": "markdown",
   "metadata": {},
   "source": [
    "### Check K-means model"
   ]
  },
  {
   "cell_type": "code",
   "execution_count": 24,
   "metadata": {},
   "outputs": [
    {
     "data": {
      "text/html": [
       "<style>#sk-container-id-4 {color: black;background-color: white;}#sk-container-id-4 pre{padding: 0;}#sk-container-id-4 div.sk-toggleable {background-color: white;}#sk-container-id-4 label.sk-toggleable__label {cursor: pointer;display: block;width: 100%;margin-bottom: 0;padding: 0.3em;box-sizing: border-box;text-align: center;}#sk-container-id-4 label.sk-toggleable__label-arrow:before {content: \"▸\";float: left;margin-right: 0.25em;color: #696969;}#sk-container-id-4 label.sk-toggleable__label-arrow:hover:before {color: black;}#sk-container-id-4 div.sk-estimator:hover label.sk-toggleable__label-arrow:before {color: black;}#sk-container-id-4 div.sk-toggleable__content {max-height: 0;max-width: 0;overflow: hidden;text-align: left;background-color: #f0f8ff;}#sk-container-id-4 div.sk-toggleable__content pre {margin: 0.2em;color: black;border-radius: 0.25em;background-color: #f0f8ff;}#sk-container-id-4 input.sk-toggleable__control:checked~div.sk-toggleable__content {max-height: 200px;max-width: 100%;overflow: auto;}#sk-container-id-4 input.sk-toggleable__control:checked~label.sk-toggleable__label-arrow:before {content: \"▾\";}#sk-container-id-4 div.sk-estimator input.sk-toggleable__control:checked~label.sk-toggleable__label {background-color: #d4ebff;}#sk-container-id-4 div.sk-label input.sk-toggleable__control:checked~label.sk-toggleable__label {background-color: #d4ebff;}#sk-container-id-4 input.sk-hidden--visually {border: 0;clip: rect(1px 1px 1px 1px);clip: rect(1px, 1px, 1px, 1px);height: 1px;margin: -1px;overflow: hidden;padding: 0;position: absolute;width: 1px;}#sk-container-id-4 div.sk-estimator {font-family: monospace;background-color: #f0f8ff;border: 1px dotted black;border-radius: 0.25em;box-sizing: border-box;margin-bottom: 0.5em;}#sk-container-id-4 div.sk-estimator:hover {background-color: #d4ebff;}#sk-container-id-4 div.sk-parallel-item::after {content: \"\";width: 100%;border-bottom: 1px solid gray;flex-grow: 1;}#sk-container-id-4 div.sk-label:hover label.sk-toggleable__label {background-color: #d4ebff;}#sk-container-id-4 div.sk-serial::before {content: \"\";position: absolute;border-left: 1px solid gray;box-sizing: border-box;top: 0;bottom: 0;left: 50%;z-index: 0;}#sk-container-id-4 div.sk-serial {display: flex;flex-direction: column;align-items: center;background-color: white;padding-right: 0.2em;padding-left: 0.2em;position: relative;}#sk-container-id-4 div.sk-item {position: relative;z-index: 1;}#sk-container-id-4 div.sk-parallel {display: flex;align-items: stretch;justify-content: center;background-color: white;position: relative;}#sk-container-id-4 div.sk-item::before, #sk-container-id-4 div.sk-parallel-item::before {content: \"\";position: absolute;border-left: 1px solid gray;box-sizing: border-box;top: 0;bottom: 0;left: 50%;z-index: -1;}#sk-container-id-4 div.sk-parallel-item {display: flex;flex-direction: column;z-index: 1;position: relative;background-color: white;}#sk-container-id-4 div.sk-parallel-item:first-child::after {align-self: flex-end;width: 50%;}#sk-container-id-4 div.sk-parallel-item:last-child::after {align-self: flex-start;width: 50%;}#sk-container-id-4 div.sk-parallel-item:only-child::after {width: 0;}#sk-container-id-4 div.sk-dashed-wrapped {border: 1px dashed gray;margin: 0 0.4em 0.5em 0.4em;box-sizing: border-box;padding-bottom: 0.4em;background-color: white;}#sk-container-id-4 div.sk-label label {font-family: monospace;font-weight: bold;display: inline-block;line-height: 1.2em;}#sk-container-id-4 div.sk-label-container {text-align: center;}#sk-container-id-4 div.sk-container {/* jupyter's `normalize.less` sets `[hidden] { display: none; }` but bootstrap.min.css set `[hidden] { display: none !important; }` so we also need the `!important` here to be able to override the default hidden behavior on the sphinx rendered scikit-learn.org. See: https://github.com/scikit-learn/scikit-learn/issues/21755 */display: inline-block !important;position: relative;}#sk-container-id-4 div.sk-text-repr-fallback {display: none;}</style><div id=\"sk-container-id-4\" class=\"sk-top-container\"><div class=\"sk-text-repr-fallback\"><pre>KMeans(n_clusters=2, n_init=10, random_state=42)</pre><b>In a Jupyter environment, please rerun this cell to show the HTML representation or trust the notebook. <br />On GitHub, the HTML representation is unable to render, please try loading this page with nbviewer.org.</b></div><div class=\"sk-container\" hidden><div class=\"sk-item\"><div class=\"sk-estimator sk-toggleable\"><input class=\"sk-toggleable__control sk-hidden--visually\" id=\"sk-estimator-id-4\" type=\"checkbox\" checked><label for=\"sk-estimator-id-4\" class=\"sk-toggleable__label sk-toggleable__label-arrow\">KMeans</label><div class=\"sk-toggleable__content\"><pre>KMeans(n_clusters=2, n_init=10, random_state=42)</pre></div></div></div></div></div>"
      ],
      "text/plain": [
       "KMeans(n_clusters=2, n_init=10, random_state=42)"
      ]
     },
     "execution_count": 24,
     "metadata": {},
     "output_type": "execute_result"
    }
   ],
   "source": [
    "# Read model\n",
    "with open(\"kmeans_model.pkl\", \"rb\") as archivo_entrada:\n",
    "    pickle_kmeans = pickle.load(archivo_entrada)\n",
    "\n",
    "pickle_kmeans"
   ]
  },
  {
   "cell_type": "code",
   "execution_count": 25,
   "metadata": {},
   "outputs": [],
   "source": [
    "feature_names = ['Interests', 'Shower', 'WashingMachine', 'DishWasher', 'EcoMode',\n",
    "       'WaterRecycling', 'GeneralRecycling', 'Meat', 'Gasoline', 'Age_Old',\n",
    "       'Age_Young', 'Estimation_No', 'Estimation_Yes', 'Pet_No', 'Pet_Yes',\n",
    "       'Garden_No', 'Garden_Yes']"
   ]
  },
  {
   "cell_type": "code",
   "execution_count": 61,
   "metadata": {},
   "outputs": [
    {
     "name": "stdout",
     "output_type": "stream",
     "text": [
      "[0]\n",
      "[1]\n"
     ]
    }
   ],
   "source": [
    "type_0 = np.array([2, 1 ,0, 0, 0, 0, 0, 1, 0, 0, 1, 1, 0, 0, 1, 1, 0]).reshape(1, -1)\n",
    "# type_0 = np.array([2, 1 ,0, 0, 0, 0, 0, 1, 0, False, True, True, False, False, True, True, False]).reshape(1, -1)\n",
    "type_1 = np.array([0, 0, 0, 1 ,0, 1, 1, 1, 1, 1, 0, 1, 0, 1, 0, 0, 1]).reshape(1, -1)\n",
    "# type_1 = np.array([0, 0, 0, 1 ,0, 1, 1, 1, 1, True, False, True, False, True, False, False, True]).reshape(1, -1)\n",
    "\n",
    "\n",
    "# Set sample as df to prevent error.\n",
    "sample_survey_df_0 = pd.DataFrame(type_0, columns=feature_names)\n",
    "sample_survey_df_1 = pd.DataFrame(type_1, columns=feature_names)\n",
    "\n",
    "# Give me a prediction of 0\n",
    "print(pickle_kmeans.predict(sample_survey_df_0))\n",
    "# Give me a prediction of 1\n",
    "print(pickle_kmeans.predict(sample_survey_df_1))\n",
    "\n"
   ]
  },
  {
   "cell_type": "markdown",
   "metadata": {},
   "source": [
    "### Create API (endpoint) for full stack"
   ]
  },
  {
   "cell_type": "code",
   "execution_count": null,
   "metadata": {},
   "outputs": [],
   "source": [
    "load_dotenv()\n",
    "\n",
    "IP = os.environ[\"IP\"]\n",
    "\n",
    "var1 = 0\n",
    "var2 = 3\n",
    "var1 = 0\n",
    "var1 = 0\n",
    "var1 = 0\n",
    "\n",
    "data = requests.get(\"http://\"+IP+\"/api/k-means/prediction?data=\"+var1+\"&data=0&data=1&data=0&data=0\")\n",
    "\n",
    "data.json()"
   ]
  },
  {
   "cell_type": "code",
   "execution_count": 68,
   "metadata": {},
   "outputs": [
    {
     "name": "stdout",
     "output_type": "stream",
     "text": [
      "http:///api/k-means/prediction?data=1000000&data=pepe&data=1&data=0&data=0\n"
     ]
    }
   ],
   "source": [
    "\n",
    "\n",
    "\n",
    "var1 = 1000000\n",
    "var2 = \"pepe\"\n",
    "\n",
    "\n",
    "data = \"http:///api/k-means/prediction?data=\"+str(var1)+\"&data=\"+var2+\"&data=1&data=0&data=0\"\n",
    "\n",
    "print(data)"
   ]
  },
  {
   "cell_type": "markdown",
   "metadata": {},
   "source": [
    "## Final Endpoint for Full Stack"
   ]
  },
  {
   "cell_type": "code",
   "execution_count": null,
   "metadata": {},
   "outputs": [],
   "source": [
    "\n",
    "## Hay 6 parametros que hay que pasar en la url de la API:\n",
    "\n",
    "# Interests\n",
    "# WaterRecycling\n",
    "# GeneralRecycling\n",
    "# Meat\n",
    "# Garden_No\n",
    "# Garden_Yes\n",
    "\n",
    "\n",
    "d = {\n",
    "\n",
    "\n",
    "    # param_1\n",
    "    'Interests - pregunta 4': {\n",
    "        'ahorrar agua': 0,\n",
    "        'ayudar al ecosistema': 0,\n",
    "        'conocer mi huella': 1,\n",
    "        'ahorrar dinero': 2,\n",
    "    },\n",
    "\n",
    "    # param_2\n",
    "    'Reciclas agua - pregunta 7,1': {\n",
    "        'si': 0,\n",
    "        'no': 1,\n",
    "        'buena idea voy a probarlo': 0\n",
    "    },\n",
    "\n",
    "    # param_3\n",
    "    'Reciclar vidrio,cartón - pregunta 7,2': {\n",
    "        'a veces': 1,\n",
    "        'siempre': 0,      \n",
    "        'nunca': 2\n",
    "    },\n",
    "\n",
    "    # param_4\n",
    "    'Carne - - pregunta 8 ': {\n",
    "        '1 vez al dia': 1,\n",
    "        '1 vez al 3 dias': 1,\n",
    "        '1 vez a la semana': 1,\n",
    "        'Nunca': 0,\n",
    "    },\n",
    "\n",
    "# Esta es un poco distinta/rara. Si uno es True la otra tiene que ser False\n",
    "\n",
    "        # param_5\n",
    "        'Jardin NO - si el usuario pone 0 (NO tiene jardin)  ': {\n",
    "\n",
    "            if Jardin NO = 0:\n",
    "                'param_5': 1,\n",
    "            if Jardin No = > 0:\n",
    "                'param_5': 0,\n",
    "\n",
    "        # param_6\n",
    "        'Jardin SI - si el usuario pone >0 (TIENE jardin)  ': {\n",
    "\n",
    "            if Jardin SI = >0:\n",
    "                'param_6': 1,\n",
    "            if Jardin SI = 0:\n",
    "                'param_6': 0,\n",
    "        \n",
    "    },\n",
    "}\n",
    "\n",
    "\n",
    "\n",
    "\n",
    "\n",
    "API = \"http://3.144.111.165/api/k-means/prediction?data=\"{param_1}\"&data=\"{param_2}\"&data=\"{param_3}\"&data=\"{param_4}\"&data=\"{param_5}\"&data=\"{param_6}\"\""
   ]
  }
 ],
 "metadata": {
  "interpreter": {
   "hash": "aee8b7b246df8f9039afb4144a1f6fd8d2ca17a180786b69acc140d282b71a49"
  },
  "kernelspec": {
   "display_name": "Python 3.8.0 64-bit",
   "language": "python",
   "name": "python3"
  },
  "language_info": {
   "codemirror_mode": {
    "name": "ipython",
    "version": 3
   },
   "file_extension": ".py",
   "mimetype": "text/x-python",
   "name": "python",
   "nbconvert_exporter": "python",
   "pygments_lexer": "ipython3",
   "version": "3.8.0"
  },
  "orig_nbformat": 4
 },
 "nbformat": 4,
 "nbformat_minor": 2
}
