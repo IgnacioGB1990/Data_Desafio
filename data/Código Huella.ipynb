{
 "cells": [
  {
   "cell_type": "code",
   "execution_count": 1,
   "metadata": {},
   "outputs": [],
   "source": [
    "import pandas as pd"
   ]
  },
  {
   "cell_type": "code",
   "execution_count": 4,
   "metadata": {},
   "outputs": [
    {
     "name": "stdout",
     "output_type": "stream",
     "text": [
      "Tu huella hídrica en casa es de: 335244.6666666667 litros por año\n"
     ]
    }
   ],
   "source": [
    "# Pedir al usuario los datos necesarios\n",
    "veces_duchado_por_semana = int(input(\"¿Cuántas veces te duchas por semana? \"))\n",
    "duracion_ducha_en_minutos = int(input(\"¿Cuántos minutos dura cada ducha? \"))\n",
    "veces_lava_platos_por_semana = int(input(\"¿Cuántas veces lavas los platos por semana? \"))\n",
    "lava_con_lavavajillas = input(\"¿Usas lavavajillas para lavar los platos? (s/n) \") == 's'\n",
    "veces_pone_lavadora_por_semana = int(input(\"¿Cuántas veces pones la lavadora por semana? \"))\n",
    "tiene_piscina = input(\"¿Tienes piscina? (s/n) \") == 's'\n",
    "if tiene_piscina:\n",
    "    tamaño_piscina_en_metros_cubicos = float(input(\"¿Cuántos metros cúbicos de agua usa su piscina? \"))\n",
    "else:\n",
    "    tamaño_piscina_en_metros_cubicos = 0\n",
    "tiene_jardin = input(\"¿Tienes jardín? (s/n) \") == 's'\n",
    "if tiene_jardin:\n",
    "    veces_riega_por_semana = int(input(\"¿Cuántas veces riegas el jardín por semana? \"))\n",
    "else:\n",
    "    veces_riega_por_semana = 0\n",
    "tiene_coche = input(\"¿Tienes coche? (s/n) \") == 's'\n",
    "if tiene_coche:\n",
    "    veces_lava_coche_por_mes = int(input(\"¿Cuántas veces al mes lavas tu coche? \"))\n",
    "else:\n",
    "    veces_lava_coche_por_mes = 0\n",
    "\n",
    "# Calcular la huella hídrica de cada actividad (Cálculos basados en estimaciones promedio de USA)\n",
    "cantidad_agua_por_ducha = duracion_ducha_en_minutos * 2.5 / 60 # en galones\n",
    "huella_hidrica_agua = 0.01 # en m3/galón\n",
    "huella_hidrica_ducha = veces_duchado_por_semana * cantidad_agua_por_ducha * huella_hidrica_agua * 52 * 1000\n",
    "\n",
    "if lava_con_lavavajillas:\n",
    "    cantidad_agua_por_lavado = 6.5 # en galones\n",
    "else:\n",
    "    cantidad_agua_por_lavado = 27 # en galones\n",
    "huella_hidrica_lavar_platos = veces_lava_platos_por_semana * cantidad_agua_por_lavado * huella_hidrica_agua * 52 * 1000\n",
    "\n",
    "cantidad_agua_por_lavadora = 15 # en galones\n",
    "huella_hidrica_lavadora = veces_pone_lavadora_por_semana * cantidad_agua_por_lavadora * huella_hidrica_agua * 52 * 1000\n",
    "\n",
    "huella_hidrica_piscina = tamaño_piscina_en_metros_cubicos * 1000 * huella_hidrica_agua * 52\n",
    "\n",
    "cantidad_agua_por_riego = 6.7 # en galones\n",
    "huella_hidrica_riego = veces_riega_por_semana * cantidad_agua_por_riego * huella_hidrica_agua * 52 * 1000\n",
    "\n",
    "cantidad_agua_por_lavado_coche = 120 # en galones\n",
    "huella_hidrica_lavado_coche = veces_lava_coche_por_mes * cantidad_agua_por_lavado_coche * huella_hidrica_agua * 12 * 1000\n",
    "\n",
    "# Calcular la cantidad total de agua y su huella hídrica\n",
    "huella_hidrica_total = huella_hidrica_ducha + huella_hidrica_lavar_platos + huella_hidrica_lavadora + huella_hidrica_piscina + huella_hidrica_riego +  huella_hidrica_lavado_coche\n",
    "cantidad_agua_total_en_litros = cantidad_agua_por_ducha * veces_duchado_por_semana * 52 + cantidad_agua_por_lavado * veces_lava_platos_por_semana * 52 + cantidad_agua_por_lavadora * veces_pone_lavadora_por_semana * 52 + tamaño_piscina_en_metros_cubicos * 1000 + cantidad_agua_por_riego * veces_riega_por_semana * 52 + cantidad_agua_por_lavado_coche * veces_lava_coche_por_mes * 12\n",
    "\n",
    "print(\"Tu huella hídrica en casa es de:\", huella_hidrica_total, \"litros por año\")"
   ]
  },
  {
   "cell_type": "code",
   "execution_count": 5,
   "metadata": {},
   "outputs": [
    {
     "data": {
      "text/html": [
       "<div>\n",
       "<style scoped>\n",
       "    .dataframe tbody tr th:only-of-type {\n",
       "        vertical-align: middle;\n",
       "    }\n",
       "\n",
       "    .dataframe tbody tr th {\n",
       "        vertical-align: top;\n",
       "    }\n",
       "\n",
       "    .dataframe thead th {\n",
       "        text-align: right;\n",
       "    }\n",
       "</style>\n",
       "<table border=\"1\" class=\"dataframe\">\n",
       "  <thead>\n",
       "    <tr style=\"text-align: right;\">\n",
       "      <th></th>\n",
       "      <th>Huella hidrica ducha</th>\n",
       "      <th>Huella hidrica lavaplatos</th>\n",
       "      <th>Huella hidrica lavadora</th>\n",
       "      <th>Huella hidrica piscina</th>\n",
       "      <th>Huella hidrica riego</th>\n",
       "      <th>Huella hidrica coche</th>\n",
       "      <th>Huella hidrica total</th>\n",
       "    </tr>\n",
       "  </thead>\n",
       "  <tbody>\n",
       "  </tbody>\n",
       "</table>\n",
       "</div>"
      ],
      "text/plain": [
       "Empty DataFrame\n",
       "Columns: [Huella hidrica ducha, Huella hidrica lavaplatos, Huella hidrica lavadora, Huella hidrica piscina, Huella hidrica riego, Huella hidrica coche, Huella hidrica total]\n",
       "Index: []"
      ]
     },
     "execution_count": 5,
     "metadata": {},
     "output_type": "execute_result"
    }
   ],
   "source": [
    "df = pd.DataFrame(columns=['Huella hidrica ducha', 'Huella hidrica lavaplatos', 'Huella hidrica lavadora', 'Huella hidrica piscina', 'Huella hidrica riego', 'Huella hidrica coche', 'Huella hidrica total'])\n",
    "df"
   ]
  },
  {
   "attachments": {},
   "cell_type": "markdown",
   "metadata": {},
   "source": [
    "## Posibles preguntas cuestionario:\n",
    "\n",
    "- ¿Cuántas veces te duchas por semana? ¿Cuántos minutos dura cada ducha?\n",
    "- ¿Cuántas veces lavas los platos por semana? ¿Usas lavavajillas para lavar los platos? (s/n)\n",
    "- ¿Cuántas veces pones la lavadora por semana?\n",
    "- ¿Tienes piscina? (s/n) ¿Cuántos metros cúbicos de agua usa su piscina?\n",
    "- ¿Tienes jardín? (s/n) ¿Cuántas veces riegas el jardín por semana?\n",
    "- ¿Tienes coche? (s/n) ¿Cuántas veces al mes lavas tu coche?"
   ]
  },
  {
   "attachments": {},
   "cell_type": "markdown",
   "metadata": {},
   "source": [
    "Como clasificación del usuario en base a su huella hídrica en el hogar, podríamos utilizar un promedio. (Buscar)"
   ]
  },
  {
   "cell_type": "code",
   "execution_count": null,
   "metadata": {},
   "outputs": [],
   "source": []
  }
 ],
 "metadata": {
  "kernelspec": {
   "display_name": "Python 3",
   "language": "python",
   "name": "python3"
  },
  "language_info": {
   "codemirror_mode": {
    "name": "ipython",
    "version": 3
   },
   "file_extension": ".py",
   "mimetype": "text/x-python",
   "name": "python",
   "nbconvert_exporter": "python",
   "pygments_lexer": "ipython3",
   "version": "3.7.4"
  },
  "orig_nbformat": 4
 },
 "nbformat": 4,
 "nbformat_minor": 2
}
